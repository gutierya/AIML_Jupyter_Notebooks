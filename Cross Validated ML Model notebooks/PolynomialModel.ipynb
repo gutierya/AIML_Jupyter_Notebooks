{
 "cells": [
  {
   "cell_type": "code",
   "execution_count": 200,
   "metadata": {
    "collapsed": true
   },
   "outputs": [],
   "source": [
    "import sklearn.datasets\n",
    "from IPython.core.display import display\n",
    "from sklearn.model_selection import train_test_split\n",
    "import matplotlib.pyplot as plt\n",
    "from IPython.display import Markdown, display\n",
    "from sklearn.preprocessing import PolynomialFeatures\n",
    "from sklearn.linear_model import Lasso, Ridge, LinearRegression\n",
    "from sklearn.preprocessing import StandardScaler\n",
    "import pandas as pd\n",
    "import numpy as np\n",
    "from sklearn.model_selection import KFold\n",
    "from sklearn.pipeline import Pipeline\n",
    "from sklearn.compose import TransformedTargetRegressor\n",
    "from sklearn.model_selection import validation_curve\n",
    "from sklearn.model_selection import GridSearchCV\n",
    "from sklearn.metrics import mean_squared_error, r2_score\n",
    "from sklearn.preprocessing import MinMaxScaler\n",
    "from sklearn.preprocessing import StandardScaler\n",
    "from math import sqrt\n",
    "plt.style.use('dark_background')"
   ]
  },
  {
   "cell_type": "markdown",
   "source": [
    "Intro + data"
   ],
   "metadata": {
    "collapsed": false
   }
  },
  {
   "cell_type": "code",
   "execution_count": 201,
   "outputs": [
    {
     "name": "stdout",
     "output_type": "stream",
     "text": [
      "train data...\n"
     ]
    },
    {
     "data": {
      "text/plain": "          A          B          C    D         E          F           G  \\\n0  0.003555  92.159562   6.658918  0.0  1.994330  35.960534  290.003375   \n1  0.015362   0.000000  20.380324  0.0  1.738552  35.118264  350.939667   \n2  0.015351   0.000000  20.380324  0.0  1.738552  39.296796  271.766966   \n3  0.018208   0.000000   6.284173  0.0  1.697776  38.274040  203.714027   \n4  0.038841   0.000000   6.284173  0.0  1.697776  39.088964  241.076425   \n\n           H          I            J          K            L          M  \\\n0  20.973961   7.523349  2410.680571  33.715837  1965.274105  34.370406   \n1  25.471824  15.046698  1970.894250  39.224961  1965.274105  63.081429   \n2  25.471824  15.046698  1970.894250  39.224961  1945.121257  27.813803   \n3  31.087615  22.570047  1808.010428  41.208245  1954.034064  20.290963   \n4  31.087615  22.570047  1808.010428  41.208245  1965.274105  36.785997   \n\n            N  \n0  220.134692  \n1  198.121223  \n2  318.278075  \n3  306.354113  \n4  332.036493  ",
      "text/html": "<div>\n<style scoped>\n    .dataframe tbody tr th:only-of-type {\n        vertical-align: middle;\n    }\n\n    .dataframe tbody tr th {\n        vertical-align: top;\n    }\n\n    .dataframe thead th {\n        text-align: right;\n    }\n</style>\n<table border=\"1\" class=\"dataframe\">\n  <thead>\n    <tr style=\"text-align: right;\">\n      <th></th>\n      <th>A</th>\n      <th>B</th>\n      <th>C</th>\n      <th>D</th>\n      <th>E</th>\n      <th>F</th>\n      <th>G</th>\n      <th>H</th>\n      <th>I</th>\n      <th>J</th>\n      <th>K</th>\n      <th>L</th>\n      <th>M</th>\n      <th>N</th>\n    </tr>\n  </thead>\n  <tbody>\n    <tr>\n      <th>0</th>\n      <td>0.003555</td>\n      <td>92.159562</td>\n      <td>6.658918</td>\n      <td>0.0</td>\n      <td>1.994330</td>\n      <td>35.960534</td>\n      <td>290.003375</td>\n      <td>20.973961</td>\n      <td>7.523349</td>\n      <td>2410.680571</td>\n      <td>33.715837</td>\n      <td>1965.274105</td>\n      <td>34.370406</td>\n      <td>220.134692</td>\n    </tr>\n    <tr>\n      <th>1</th>\n      <td>0.015362</td>\n      <td>0.000000</td>\n      <td>20.380324</td>\n      <td>0.0</td>\n      <td>1.738552</td>\n      <td>35.118264</td>\n      <td>350.939667</td>\n      <td>25.471824</td>\n      <td>15.046698</td>\n      <td>1970.894250</td>\n      <td>39.224961</td>\n      <td>1965.274105</td>\n      <td>63.081429</td>\n      <td>198.121223</td>\n    </tr>\n    <tr>\n      <th>2</th>\n      <td>0.015351</td>\n      <td>0.000000</td>\n      <td>20.380324</td>\n      <td>0.0</td>\n      <td>1.738552</td>\n      <td>39.296796</td>\n      <td>271.766966</td>\n      <td>25.471824</td>\n      <td>15.046698</td>\n      <td>1970.894250</td>\n      <td>39.224961</td>\n      <td>1945.121257</td>\n      <td>27.813803</td>\n      <td>318.278075</td>\n    </tr>\n    <tr>\n      <th>3</th>\n      <td>0.018208</td>\n      <td>0.000000</td>\n      <td>6.284173</td>\n      <td>0.0</td>\n      <td>1.697776</td>\n      <td>38.274040</td>\n      <td>203.714027</td>\n      <td>31.087615</td>\n      <td>22.570047</td>\n      <td>1808.010428</td>\n      <td>41.208245</td>\n      <td>1954.034064</td>\n      <td>20.290963</td>\n      <td>306.354113</td>\n    </tr>\n    <tr>\n      <th>4</th>\n      <td>0.038841</td>\n      <td>0.000000</td>\n      <td>6.284173</td>\n      <td>0.0</td>\n      <td>1.697776</td>\n      <td>39.088964</td>\n      <td>241.076425</td>\n      <td>31.087615</td>\n      <td>22.570047</td>\n      <td>1808.010428</td>\n      <td>41.208245</td>\n      <td>1965.274105</td>\n      <td>36.785997</td>\n      <td>332.036493</td>\n    </tr>\n  </tbody>\n</table>\n</div>"
     },
     "metadata": {},
     "output_type": "display_data"
    },
    {
     "name": "stdout",
     "output_type": "stream",
     "text": [
      "test data...\n"
     ]
    },
    {
     "data": {
      "text/plain": "          A           B          C    D         E          F           G  \\\n0  0.042205  168.959198   6.284173  0.0  1.749673  40.582078  319.804335   \n1  0.027743  168.959198   6.284173  0.0  1.749673  37.459117  312.687688   \n2  0.277305    0.000000  28.538219  0.0  2.016572  36.288691  366.952123   \n3  0.196540    0.000000  28.538219  0.0  2.016572  32.662556  341.154277   \n4  1.482478    0.000000  28.538219  0.0  2.016572  27.198743  168.130791   \n\n           H          I            J         K            L          M  \n0  15.893032  52.663442  1808.010428  40.54715  1965.274105  44.653922  \n1  16.321229  52.663442  1808.010428  40.54715  1965.274105  51.969711  \n2  17.012498  30.093396  2475.834100  40.54715  1965.274105  31.333664  \n3  15.909954  30.093396  2475.834100  40.54715  1962.006076  68.809830  \n4  12.919755  30.093396  2475.834100  40.54715  1735.274150  87.237337  ",
      "text/html": "<div>\n<style scoped>\n    .dataframe tbody tr th:only-of-type {\n        vertical-align: middle;\n    }\n\n    .dataframe tbody tr th {\n        vertical-align: top;\n    }\n\n    .dataframe thead th {\n        text-align: right;\n    }\n</style>\n<table border=\"1\" class=\"dataframe\">\n  <thead>\n    <tr style=\"text-align: right;\">\n      <th></th>\n      <th>A</th>\n      <th>B</th>\n      <th>C</th>\n      <th>D</th>\n      <th>E</th>\n      <th>F</th>\n      <th>G</th>\n      <th>H</th>\n      <th>I</th>\n      <th>J</th>\n      <th>K</th>\n      <th>L</th>\n      <th>M</th>\n    </tr>\n  </thead>\n  <tbody>\n    <tr>\n      <th>0</th>\n      <td>0.042205</td>\n      <td>168.959198</td>\n      <td>6.284173</td>\n      <td>0.0</td>\n      <td>1.749673</td>\n      <td>40.582078</td>\n      <td>319.804335</td>\n      <td>15.893032</td>\n      <td>52.663442</td>\n      <td>1808.010428</td>\n      <td>40.54715</td>\n      <td>1965.274105</td>\n      <td>44.653922</td>\n    </tr>\n    <tr>\n      <th>1</th>\n      <td>0.027743</td>\n      <td>168.959198</td>\n      <td>6.284173</td>\n      <td>0.0</td>\n      <td>1.749673</td>\n      <td>37.459117</td>\n      <td>312.687688</td>\n      <td>16.321229</td>\n      <td>52.663442</td>\n      <td>1808.010428</td>\n      <td>40.54715</td>\n      <td>1965.274105</td>\n      <td>51.969711</td>\n    </tr>\n    <tr>\n      <th>2</th>\n      <td>0.277305</td>\n      <td>0.000000</td>\n      <td>28.538219</td>\n      <td>0.0</td>\n      <td>2.016572</td>\n      <td>36.288691</td>\n      <td>366.952123</td>\n      <td>17.012498</td>\n      <td>30.093396</td>\n      <td>2475.834100</td>\n      <td>40.54715</td>\n      <td>1965.274105</td>\n      <td>31.333664</td>\n    </tr>\n    <tr>\n      <th>3</th>\n      <td>0.196540</td>\n      <td>0.000000</td>\n      <td>28.538219</td>\n      <td>0.0</td>\n      <td>2.016572</td>\n      <td>32.662556</td>\n      <td>341.154277</td>\n      <td>15.909954</td>\n      <td>30.093396</td>\n      <td>2475.834100</td>\n      <td>40.54715</td>\n      <td>1962.006076</td>\n      <td>68.809830</td>\n    </tr>\n    <tr>\n      <th>4</th>\n      <td>1.482478</td>\n      <td>0.000000</td>\n      <td>28.538219</td>\n      <td>0.0</td>\n      <td>2.016572</td>\n      <td>27.198743</td>\n      <td>168.130791</td>\n      <td>12.919755</td>\n      <td>30.093396</td>\n      <td>2475.834100</td>\n      <td>40.54715</td>\n      <td>1735.274150</td>\n      <td>87.237337</td>\n    </tr>\n  </tbody>\n</table>\n</div>"
     },
     "metadata": {},
     "output_type": "display_data"
    }
   ],
   "source": [
    "#Create a cross-validated machine learning model\n",
    "#and use it to produce predictions for the testing data.\n",
    "train_rawdata = pd.read_csv('https://raw.githubusercontent.com/cdavidshaffer/CPSC4970-AI/master/data/m3train.csv')\n",
    "test_rawdata = pd.read_csv('https://raw.githubusercontent.com/cdavidshaffer/CPSC4970-AI/master/data/m3test.csv')\n",
    "#ignoring rows with missing values\n",
    "train_data = train_rawdata.dropna()\n",
    "test_data = test_rawdata.dropna()\n",
    "\n",
    "print(\"train data...\")\n",
    "display(train_data.head())\n",
    "\n",
    "print(\"test data...\")\n",
    "display(test_data.head())\n",
    "\n",
    "#this data is \"labeled\" The last column is the target.\n",
    "X_train = train_data.iloc[:, :-1]\n",
    "#this data does not contain the target column\n",
    "X_test = test_data.iloc[:, :]\n",
    "#train target column\n",
    "y_train = train_data['N']"
   ],
   "metadata": {
    "collapsed": false,
    "pycharm": {
     "name": "#%%\n"
    }
   }
  },
  {
   "cell_type": "markdown",
   "source": [
    "Regularization"
   ],
   "metadata": {
    "collapsed": false
   }
  },
  {
   "cell_type": "code",
   "execution_count": 202,
   "outputs": [
    {
     "name": "stdout",
     "output_type": "stream",
     "text": [
      "Training MSE:  816.4901065354477\n",
      "Training R2:  0.8752692337802918\n",
      "-130.45422531097412 [ 16.25394467   0.02164794   0.05405812   0.90816494 -14.85621795\n",
      "  15.35940784  -0.09816686  -1.71371526   0.13462155  -0.0164658\n",
      "  -2.5385457    0.030584    -0.15620487]\n"
     ]
    },
    {
     "data": {
      "text/plain": "<matplotlib.collections.PathCollection at 0x7fb7f3b7f460>"
     },
     "execution_count": 202,
     "metadata": {},
     "output_type": "execute_result"
    },
    {
     "data": {
      "text/plain": "<Figure size 432x288 with 1 Axes>",
      "image/png": "[encoded data removed]"
     },
     "metadata": {},
     "output_type": "display_data"
    }
   ],
   "source": [
    "lr = Lasso(alpha=0.1, max_iter=100000).fit(X_train, y_train)\n",
    "train_predicted = lr.predict(X_train)\n",
    "print(\"Training MSE: \", mean_squared_error(y_train, train_predicted))\n",
    "print(\"Training R2: \", lr.score(X_train, y_train))\n",
    "print(lr.intercept_, lr.coef_)\n",
    "plt.scatter(range(len(lr.coef_)), lr.coef_)"
   ],
   "metadata": {
    "collapsed": false,
    "pycharm": {
     "name": "#%%\n"
    }
   }
  },
  {
   "cell_type": "markdown",
   "source": [
    "Preprocessing - normalizing the data and the target"
   ],
   "metadata": {
    "collapsed": false
   }
  },
  {
   "cell_type": "code",
   "execution_count": 203,
   "outputs": [
    {
     "data": {
      "text/plain": "'Displaying training data'"
     },
     "metadata": {},
     "output_type": "display_data"
    },
    {
     "data": {
      "text/plain": "                A           B           C           D           E           F  \\\ncount  306.000000  306.000000  306.000000  306.000000  306.000000  306.000000   \nmean     0.240841   81.216869   25.312196    0.610402    1.901232   35.155155   \nstd      0.374535  133.126869   18.321462    1.965383    0.401590    3.839247   \nmin      0.003555    0.000000    1.326018    0.000000    1.427170   26.815893   \n25%      0.037393    0.000000   11.674726    0.000000    1.619930   32.508049   \n50%      0.076583    0.000000   18.477776    0.000000    1.812691   34.325218   \n75%      0.291414  112.639465   30.527246    0.000000    2.019352   37.166511   \nmax      2.304820  511.997569   73.939931    6.917893    3.228739   47.719492   \n\n                G           H           I            J           K  \\\ncount  306.000000  306.000000  306.000000   306.000000  306.000000   \nmean   277.079741   22.044135   34.076345  2539.124578   38.717977   \nstd    129.633241   10.131636   12.292388   560.974481    5.012664   \nmin     12.898923    6.777307    7.523349  1531.107930   27.765983   \n25%    162.793305   13.610511   30.093396  2150.066455   34.542206   \n50%    294.228884   20.313204   33.855070  2500.266673   39.224961   \n75%    405.204102   29.337392   37.616744  3127.369389   42.089705   \nmax    444.790452   47.296025   60.186791  3819.625634   46.717369   \n\n                 L           M           N  \ncount   306.000000  306.000000  306.000000  \nmean   1876.419011   73.442306  234.288777  \nstd     212.617866   42.569868   81.040005  \nmin     350.570438   11.939920  108.232890  \n25%    1892.535691   41.030535  179.776665  \n50%    1942.076047   65.566036  212.796869  \n75%    1958.936109   97.054988  272.875295  \nmax    1965.274105  237.487085  458.613941  ",
      "text/html": "<div>\n<style scoped>\n    .dataframe tbody tr th:only-of-type {\n        vertical-align: middle;\n    }\n\n    .dataframe tbody tr th {\n        vertical-align: top;\n    }\n\n    .dataframe thead th {\n        text-align: right;\n    }\n</style>\n<table border=\"1\" class=\"dataframe\">\n  <thead>\n    <tr style=\"text-align: right;\">\n      <th></th>\n      <th>A</th>\n      <th>B</th>\n      <th>C</th>\n      <th>D</th>\n      <th>E</th>\n      <th>F</th>\n      <th>G</th>\n      <th>H</th>\n      <th>I</th>\n      <th>J</th>\n      <th>K</th>\n      <th>L</th>\n      <th>M</th>\n      <th>N</th>\n    </tr>\n  </thead>\n  <tbody>\n    <tr>\n      <th>count</th>\n      <td>306.000000</td>\n      <td>306.000000</td>\n      <td>306.000000</td>\n      <td>306.000000</td>\n      <td>306.000000</td>\n      <td>306.000000</td>\n      <td>306.000000</td>\n      <td>306.000000</td>\n      <td>306.000000</td>\n      <td>306.000000</td>\n      <td>306.000000</td>\n      <td>306.000000</td>\n      <td>306.000000</td>\n      <td>306.000000</td>\n    </tr>\n    <tr>\n      <th>mean</th>\n      <td>0.240841</td>\n      <td>81.216869</td>\n      <td>25.312196</td>\n      <td>0.610402</td>\n      <td>1.901232</td>\n      <td>35.155155</td>\n      <td>277.079741</td>\n      <td>22.044135</td>\n      <td>34.076345</td>\n      <td>2539.124578</td>\n      <td>38.717977</td>\n      <td>1876.419011</td>\n      <td>73.442306</td>\n      <td>234.288777</td>\n    </tr>\n    <tr>\n      <th>std</th>\n      <td>0.374535</td>\n      <td>133.126869</td>\n      <td>18.321462</td>\n      <td>1.965383</td>\n      <td>0.401590</td>\n      <td>3.839247</td>\n      <td>129.633241</td>\n      <td>10.131636</td>\n      <td>12.292388</td>\n      <td>560.974481</td>\n      <td>5.012664</td>\n      <td>212.617866</td>\n      <td>42.569868</td>\n      <td>81.040005</td>\n    </tr>\n    <tr>\n      <th>min</th>\n      <td>0.003555</td>\n      <td>0.000000</td>\n      <td>1.326018</td>\n      <td>0.000000</td>\n      <td>1.427170</td>\n      <td>26.815893</td>\n      <td>12.898923</td>\n      <td>6.777307</td>\n      <td>7.523349</td>\n      <td>1531.107930</td>\n      <td>27.765983</td>\n      <td>350.570438</td>\n      <td>11.939920</td>\n      <td>108.232890</td>\n    </tr>\n    <tr>\n      <th>25%</th>\n      <td>0.037393</td>\n      <td>0.000000</td>\n      <td>11.674726</td>\n      <td>0.000000</td>\n      <td>1.619930</td>\n      <td>32.508049</td>\n      <td>162.793305</td>\n      <td>13.610511</td>\n      <td>30.093396</td>\n      <td>2150.066455</td>\n      <td>34.542206</td>\n      <td>1892.535691</td>\n      <td>41.030535</td>\n      <td>179.776665</td>\n    </tr>\n    <tr>\n      <th>50%</th>\n      <td>0.076583</td>\n      <td>0.000000</td>\n      <td>18.477776</td>\n      <td>0.000000</td>\n      <td>1.812691</td>\n      <td>34.325218</td>\n      <td>294.228884</td>\n      <td>20.313204</td>\n      <td>33.855070</td>\n      <td>2500.266673</td>\n      <td>39.224961</td>\n      <td>1942.076047</td>\n      <td>65.566036</td>\n      <td>212.796869</td>\n    </tr>\n    <tr>\n      <th>75%</th>\n      <td>0.291414</td>\n      <td>112.639465</td>\n      <td>30.527246</td>\n      <td>0.000000</td>\n      <td>2.019352</td>\n      <td>37.166511</td>\n      <td>405.204102</td>\n      <td>29.337392</td>\n      <td>37.616744</td>\n      <td>3127.369389</td>\n      <td>42.089705</td>\n      <td>1958.936109</td>\n      <td>97.054988</td>\n      <td>272.875295</td>\n    </tr>\n    <tr>\n      <th>max</th>\n      <td>2.304820</td>\n      <td>511.997569</td>\n      <td>73.939931</td>\n      <td>6.917893</td>\n      <td>3.228739</td>\n      <td>47.719492</td>\n      <td>444.790452</td>\n      <td>47.296025</td>\n      <td>60.186791</td>\n      <td>3819.625634</td>\n      <td>46.717369</td>\n      <td>1965.274105</td>\n      <td>237.487085</td>\n      <td>458.613941</td>\n    </tr>\n  </tbody>\n</table>\n</div>"
     },
     "metadata": {},
     "output_type": "display_data"
    },
    {
     "data": {
      "text/plain": "'Displaying testing data'"
     },
     "metadata": {},
     "output_type": "display_data"
    },
    {
     "data": {
      "text/plain": "                A           B           C           D           E           F  \\\ncount  100.000000  100.000000  100.000000  100.000000  100.000000  100.000000   \nmean     4.232633   45.874982   34.251340    0.553431    2.196833   32.974305   \nstd      7.490217  113.673570   19.039490    1.886232    0.420852    4.064642   \nmin      0.007318    0.000000    3.603310    0.000000    1.519843   19.476116   \n25%      0.037673    0.000000   14.960945    0.000000    1.827518   31.239176   \n50%      1.718394    0.000000   40.357077    0.000000    2.177824   33.204015   \n75%      5.244347    0.000000   52.175936    0.000000    2.568905   35.100489   \nmax     50.049821  460.797812   52.175936    6.917893    2.854339   48.020302   \n\n                G           H           I            J           K  \\\ncount  100.000000  100.000000  100.000000   100.000000  100.000000   \nmean   318.114131   19.179974  105.703052  3950.421343   42.896241   \nstd    123.556988   13.807749   75.585087  1522.374716    2.683456   \nmin     65.384196    5.792711    7.523349  1522.963739   34.156567   \n25%    204.937201    8.136769   30.093396  2475.834100   40.547150   \n50%    368.508890   13.229749  116.611908  4463.016732   44.513720   \n75%    431.446739   27.062563  180.560373  5424.031284   44.513720   \nmax    444.790452   62.185999  180.560373  5424.031284   48.480289   \n\n                 L           M  \ncount   100.000000  100.000000  \nmean   1894.602967   95.350271  \nstd     157.974747   57.157989  \nmin     650.733996   20.428997  \n25%    1872.766588   50.416831  \n50%    1950.320394   79.300395  \n75%    1965.274105  134.375866  \nmax    1965.274105  262.057094  ",
      "text/html": "<div>\n<style scoped>\n    .dataframe tbody tr th:only-of-type {\n        vertical-align: middle;\n    }\n\n    .dataframe tbody tr th {\n        vertical-align: top;\n    }\n\n    .dataframe thead th {\n        text-align: right;\n    }\n</style>\n<table border=\"1\" class=\"dataframe\">\n  <thead>\n    <tr style=\"text-align: right;\">\n      <th></th>\n      <th>A</th>\n      <th>B</th>\n      <th>C</th>\n      <th>D</th>\n      <th>E</th>\n      <th>F</th>\n      <th>G</th>\n      <th>H</th>\n      <th>I</th>\n      <th>J</th>\n      <th>K</th>\n      <th>L</th>\n      <th>M</th>\n    </tr>\n  </thead>\n  <tbody>\n    <tr>\n      <th>count</th>\n      <td>100.000000</td>\n      <td>100.000000</td>\n      <td>100.000000</td>\n      <td>100.000000</td>\n      <td>100.000000</td>\n      <td>100.000000</td>\n      <td>100.000000</td>\n      <td>100.000000</td>\n      <td>100.000000</td>\n      <td>100.000000</td>\n      <td>100.000000</td>\n      <td>100.000000</td>\n      <td>100.000000</td>\n    </tr>\n    <tr>\n      <th>mean</th>\n      <td>4.232633</td>\n      <td>45.874982</td>\n      <td>34.251340</td>\n      <td>0.553431</td>\n      <td>2.196833</td>\n      <td>32.974305</td>\n      <td>318.114131</td>\n      <td>19.179974</td>\n      <td>105.703052</td>\n      <td>3950.421343</td>\n      <td>42.896241</td>\n      <td>1894.602967</td>\n      <td>95.350271</td>\n    </tr>\n    <tr>\n      <th>std</th>\n      <td>7.490217</td>\n      <td>113.673570</td>\n      <td>19.039490</td>\n      <td>1.886232</td>\n      <td>0.420852</td>\n      <td>4.064642</td>\n      <td>123.556988</td>\n      <td>13.807749</td>\n      <td>75.585087</td>\n      <td>1522.374716</td>\n      <td>2.683456</td>\n      <td>157.974747</td>\n      <td>57.157989</td>\n    </tr>\n    <tr>\n      <th>min</th>\n      <td>0.007318</td>\n      <td>0.000000</td>\n      <td>3.603310</td>\n      <td>0.000000</td>\n      <td>1.519843</td>\n      <td>19.476116</td>\n      <td>65.384196</td>\n      <td>5.792711</td>\n      <td>7.523349</td>\n      <td>1522.963739</td>\n      <td>34.156567</td>\n      <td>650.733996</td>\n      <td>20.428997</td>\n    </tr>\n    <tr>\n      <th>25%</th>\n      <td>0.037673</td>\n      <td>0.000000</td>\n      <td>14.960945</td>\n      <td>0.000000</td>\n      <td>1.827518</td>\n      <td>31.239176</td>\n      <td>204.937201</td>\n      <td>8.136769</td>\n      <td>30.093396</td>\n      <td>2475.834100</td>\n      <td>40.547150</td>\n      <td>1872.766588</td>\n      <td>50.416831</td>\n    </tr>\n    <tr>\n      <th>50%</th>\n      <td>1.718394</td>\n      <td>0.000000</td>\n      <td>40.357077</td>\n      <td>0.000000</td>\n      <td>2.177824</td>\n      <td>33.204015</td>\n      <td>368.508890</td>\n      <td>13.229749</td>\n      <td>116.611908</td>\n      <td>4463.016732</td>\n      <td>44.513720</td>\n      <td>1950.320394</td>\n      <td>79.300395</td>\n    </tr>\n    <tr>\n      <th>75%</th>\n      <td>5.244347</td>\n      <td>0.000000</td>\n      <td>52.175936</td>\n      <td>0.000000</td>\n      <td>2.568905</td>\n      <td>35.100489</td>\n      <td>431.446739</td>\n      <td>27.062563</td>\n      <td>180.560373</td>\n      <td>5424.031284</td>\n      <td>44.513720</td>\n      <td>1965.274105</td>\n      <td>134.375866</td>\n    </tr>\n    <tr>\n      <th>max</th>\n      <td>50.049821</td>\n      <td>460.797812</td>\n      <td>52.175936</td>\n      <td>6.917893</td>\n      <td>2.854339</td>\n      <td>48.020302</td>\n      <td>444.790452</td>\n      <td>62.185999</td>\n      <td>180.560373</td>\n      <td>5424.031284</td>\n      <td>48.480289</td>\n      <td>1965.274105</td>\n      <td>262.057094</td>\n    </tr>\n  </tbody>\n</table>\n</div>"
     },
     "metadata": {},
     "output_type": "display_data"
    },
    {
     "data": {
      "text/plain": "'normalized trained data...'"
     },
     "metadata": {},
     "output_type": "display_data"
    },
    {
     "data": {
      "text/plain": "                 0             1             2             3             4   \\\ncount  3.060000e+02  3.060000e+02  3.060000e+02  3.060000e+02  3.060000e+02   \nmean   7.256360e-17 -2.322035e-17 -1.393221e-16  2.322035e-17  4.760172e-16   \nstd    1.001638e+00  1.001638e+00  1.001638e+00  1.001638e+00  1.001638e+00   \nmin   -6.345872e-01 -6.110705e-01 -1.311329e+00 -3.110855e-01 -1.182397e+00   \n25%   -5.440934e-01 -6.110705e-01 -7.455633e-01 -3.110855e-01 -7.016173e-01   \n50%   -4.392858e-01 -6.110705e-01 -3.736391e-01 -3.110855e-01 -2.208377e-01   \n75%    1.352494e-01  2.364216e-01  2.851078e-01 -3.110855e-01  2.946135e-01   \nmax    5.519803e+00  3.241166e+00  2.658488e+00  3.214550e+00  3.311043e+00   \n\n                 5             6             7             8             9   \\\ncount  3.060000e+02  3.060000e+02  3.060000e+02  3.060000e+02  3.060000e+02   \nmean  -9.984751e-16  3.366951e-16 -1.161018e-16 -5.572884e-16 -7.314411e-16   \nstd    1.001638e+00  1.001638e+00  1.001638e+00  1.001638e+00  1.001638e+00   \nmin   -2.175667e+00 -2.041248e+00 -1.509315e+00 -2.163655e+00 -1.799846e+00   \n25%   -6.906151e-01 -8.830577e-01 -8.337684e-01 -3.245483e-01 -6.946758e-01   \n50%   -2.165259e-01  1.325064e-01 -1.711240e-01 -1.803046e-02 -6.938204e-02   \n75%    5.247514e-01  9.899793e-01  7.210290e-01  2.884874e-01  1.050330e+00   \nmax    3.277965e+00  1.295851e+00  2.496463e+00  2.127594e+00  2.286376e+00   \n\n                 10            11            12  \ncount  3.060000e+02  3.060000e+02  3.060000e+02  \nmean   5.572884e-16 -9.113988e-16  2.554239e-16  \nstd    1.001638e+00  1.001638e+00  1.001638e+00  \nmin   -2.188444e+00 -7.188238e+00 -1.447106e+00  \n25%   -8.344090e-01  7.592532e-02 -7.626254e-01  \n50%    1.013062e-01  3.093088e-01 -1.853229e-01  \n75%    6.737437e-01  3.887362e-01  5.555892e-01  \nmax    1.598450e+00  4.185944e-01  3.859854e+00  ",
      "text/html": "<div>\n<style scoped>\n    .dataframe tbody tr th:only-of-type {\n        vertical-align: middle;\n    }\n\n    .dataframe tbody tr th {\n        vertical-align: top;\n    }\n\n    .dataframe thead th {\n        text-align: right;\n    }\n</style>\n<table border=\"1\" class=\"dataframe\">\n  <thead>\n    <tr style=\"text-align: right;\">\n      <th></th>\n      <th>0</th>\n      <th>1</th>\n      <th>2</th>\n      <th>3</th>\n      <th>4</th>\n      <th>5</th>\n      <th>6</th>\n      <th>7</th>\n      <th>8</th>\n      <th>9</th>\n      <th>10</th>\n      <th>11</th>\n      <th>12</th>\n    </tr>\n  </thead>\n  <tbody>\n    <tr>\n      <th>count</th>\n      <td>3.060000e+02</td>\n      <td>3.060000e+02</td>\n      <td>3.060000e+02</td>\n      <td>3.060000e+02</td>\n      <td>3.060000e+02</td>\n      <td>3.060000e+02</td>\n      <td>3.060000e+02</td>\n      <td>3.060000e+02</td>\n      <td>3.060000e+02</td>\n      <td>3.060000e+02</td>\n      <td>3.060000e+02</td>\n      <td>3.060000e+02</td>\n      <td>3.060000e+02</td>\n    </tr>\n    <tr>\n      <th>mean</th>\n      <td>7.256360e-17</td>\n      <td>-2.322035e-17</td>\n      <td>-1.393221e-16</td>\n      <td>2.322035e-17</td>\n      <td>4.760172e-16</td>\n      <td>-9.984751e-16</td>\n      <td>3.366951e-16</td>\n      <td>-1.161018e-16</td>\n      <td>-5.572884e-16</td>\n      <td>-7.314411e-16</td>\n      <td>5.572884e-16</td>\n      <td>-9.113988e-16</td>\n      <td>2.554239e-16</td>\n    </tr>\n    <tr>\n      <th>std</th>\n      <td>1.001638e+00</td>\n      <td>1.001638e+00</td>\n      <td>1.001638e+00</td>\n      <td>1.001638e+00</td>\n      <td>1.001638e+00</td>\n      <td>1.001638e+00</td>\n      <td>1.001638e+00</td>\n      <td>1.001638e+00</td>\n      <td>1.001638e+00</td>\n      <td>1.001638e+00</td>\n      <td>1.001638e+00</td>\n      <td>1.001638e+00</td>\n      <td>1.001638e+00</td>\n    </tr>\n    <tr>\n      <th>min</th>\n      <td>-6.345872e-01</td>\n      <td>-6.110705e-01</td>\n      <td>-1.311329e+00</td>\n      <td>-3.110855e-01</td>\n      <td>-1.182397e+00</td>\n      <td>-2.175667e+00</td>\n      <td>-2.041248e+00</td>\n      <td>-1.509315e+00</td>\n      <td>-2.163655e+00</td>\n      <td>-1.799846e+00</td>\n      <td>-2.188444e+00</td>\n      <td>-7.188238e+00</td>\n      <td>-1.447106e+00</td>\n    </tr>\n    <tr>\n      <th>25%</th>\n      <td>-5.440934e-01</td>\n      <td>-6.110705e-01</td>\n      <td>-7.455633e-01</td>\n      <td>-3.110855e-01</td>\n      <td>-7.016173e-01</td>\n      <td>-6.906151e-01</td>\n      <td>-8.830577e-01</td>\n      <td>-8.337684e-01</td>\n      <td>-3.245483e-01</td>\n      <td>-6.946758e-01</td>\n      <td>-8.344090e-01</td>\n      <td>7.592532e-02</td>\n      <td>-7.626254e-01</td>\n    </tr>\n    <tr>\n      <th>50%</th>\n      <td>-4.392858e-01</td>\n      <td>-6.110705e-01</td>\n      <td>-3.736391e-01</td>\n      <td>-3.110855e-01</td>\n      <td>-2.208377e-01</td>\n      <td>-2.165259e-01</td>\n      <td>1.325064e-01</td>\n      <td>-1.711240e-01</td>\n      <td>-1.803046e-02</td>\n      <td>-6.938204e-02</td>\n      <td>1.013062e-01</td>\n      <td>3.093088e-01</td>\n      <td>-1.853229e-01</td>\n    </tr>\n    <tr>\n      <th>75%</th>\n      <td>1.352494e-01</td>\n      <td>2.364216e-01</td>\n      <td>2.851078e-01</td>\n      <td>-3.110855e-01</td>\n      <td>2.946135e-01</td>\n      <td>5.247514e-01</td>\n      <td>9.899793e-01</td>\n      <td>7.210290e-01</td>\n      <td>2.884874e-01</td>\n      <td>1.050330e+00</td>\n      <td>6.737437e-01</td>\n      <td>3.887362e-01</td>\n      <td>5.555892e-01</td>\n    </tr>\n    <tr>\n      <th>max</th>\n      <td>5.519803e+00</td>\n      <td>3.241166e+00</td>\n      <td>2.658488e+00</td>\n      <td>3.214550e+00</td>\n      <td>3.311043e+00</td>\n      <td>3.277965e+00</td>\n      <td>1.295851e+00</td>\n      <td>2.496463e+00</td>\n      <td>2.127594e+00</td>\n      <td>2.286376e+00</td>\n      <td>1.598450e+00</td>\n      <td>4.185944e-01</td>\n      <td>3.859854e+00</td>\n    </tr>\n  </tbody>\n</table>\n</div>"
     },
     "metadata": {},
     "output_type": "display_data"
    },
    {
     "data": {
      "text/plain": "'Training MSE after normalizing: '"
     },
     "metadata": {},
     "output_type": "display_data"
    },
    {
     "data": {
      "text/plain": "815.5885432644524"
     },
     "metadata": {},
     "output_type": "display_data"
    },
    {
     "name": "stdout",
     "output_type": "stream",
     "text": [
      "Training R2 after normalizing:  0.8754069607125432\n"
     ]
    }
   ],
   "source": [
    "#below serves to highlight that we need to normalize given ranges of data\n",
    "display(\"Displaying training data\",train_data.describe())\n",
    "display(\"Displaying testing data\",test_data.describe())\n",
    "#creating an object StandardScaler, to proceed with the normalization\n",
    "scaler = StandardScaler().fit(X_train)\n",
    "X_train_scaled = scaler.transform(X_train)\n",
    "X_test_scaled = scaler.transform(X_test)\n",
    "display(\"normalized trained data...\", pd.DataFrame(X_train_scaled).describe())\n",
    "\n",
    "#normalizing the target -\n",
    "ttr = TransformedTargetRegressor(regressor=LinearRegression(),\n",
    "                                transformer=StandardScaler()).fit(X_train_scaled, y_train)\n",
    "\n",
    "train_predicted = ttr.predict(X_train_scaled)\n",
    "display(\"Training MSE after normalizing: \", mean_squared_error(y_train, train_predicted))\n",
    "print(\"Training R2 after normalizing: \", ttr.score(X_train_scaled, y_train))"
   ],
   "metadata": {
    "collapsed": false,
    "pycharm": {
     "name": "#%%\n"
    }
   }
  },
  {
   "cell_type": "markdown",
   "source": [
    "#Hyperparameter selection: L1 regularization coefficient - Lasso"
   ],
   "metadata": {
    "collapsed": false,
    "pycharm": {
     "name": "#%% md\n"
    }
   }
  },
  {
   "cell_type": "code",
   "source": [
    "X_train2_scaled, X_valid_scaled, y_train2, y_valid = train_test_split(X_train_scaled, y_train, random_state=0, test_size=0.33)\n",
    "training_errors = []\n",
    "validation_errors = []\n",
    "alphas = [0.0001, 0.05, 0.1, 0.15, 0.2, 0.3, 0.4, 0.5, 0.6, 0.7, 0.8, 0.9]\n",
    "for alpha in alphas:\n",
    "    lr = TransformedTargetRegressor(regressor=Lasso(alpha=alpha),\n",
    "                                    transformer=StandardScaler()).fit(X_train2_scaled, y_train2)\n",
    "    training_errors.append(sqrt(mean_squared_error(y_train2, lr.predict(X_train2_scaled))))\n",
    "    validation_errors.append(sqrt(mean_squared_error(y_valid, lr.predict(X_valid_scaled))))\n",
    "print(training_errors)\n",
    "print(validation_errors)\n",
    "plt.plot(alphas, training_errors)\n",
    "plt.plot(alphas, validation_errors)"
   ],
   "metadata": {
    "collapsed": false,
    "pycharm": {
     "name": "#%%\n"
    }
   },
   "execution_count": 204,
   "outputs": [
    {
     "name": "stdout",
     "output_type": "stream",
     "text": [
      "[28.441750670115226, 31.720428649914066, 33.88127433144804, 35.92869376592236, 38.472488838672575, 42.85774899596667, 48.220594857610365, 54.34352695549364, 60.99808283563734, 68.02843031706841, 75.32942710060486, 82.82953505439106]\n",
      "[29.254837630338457, 31.626791629888896, 33.72875823909351, 35.30246064704561, 37.264378432903946, 39.735867232237894, 43.53954292035859, 48.48715032160602, 54.26670241028886, 60.640790976406656, 67.44105104149989, 74.55095235139994]\n"
     ]
    },
    {
     "data": {
      "text/plain": "[<matplotlib.lines.Line2D at 0x7fb7f3c6a850>]"
     },
     "execution_count": 204,
     "metadata": {},
     "output_type": "execute_result"
    },
    {
     "data": {
      "text/plain": "<Figure size 432x288 with 1 Axes>",
      "image/png": "[encoded data removed]"
     },
     "metadata": {},
     "output_type": "display_data"
    }
   ]
  },
  {
   "cell_type": "markdown",
   "source": [
    "*Cross Validation model*"
   ],
   "metadata": {
    "collapsed": false
   }
  },
  {
   "cell_type": "code",
   "execution_count": 208,
   "outputs": [
    {
     "name": "stderr",
     "output_type": "stream",
     "text": [
      "/Users/Gutierya/Documents/School/Python_Schaffer/pythonProject2/venv/lib/python3.9/site-packages/sklearn/linear_model/_coordinate_descent.py:530: ConvergenceWarning: Objective did not converge. You might want to increase the number of iterations. Duality gap: 0.042765987324840715, tolerance: 0.024499999999999994\n",
      "  model = cd_fast.enet_coordinate_descent(\n",
      "/Users/Gutierya/Documents/School/Python_Schaffer/pythonProject2/venv/lib/python3.9/site-packages/sklearn/linear_model/_coordinate_descent.py:530: ConvergenceWarning: Objective did not converge. You might want to increase the number of iterations. Duality gap: 0.031123159400245015, tolerance: 0.024499999999999994\n",
      "  model = cd_fast.enet_coordinate_descent(\n",
      "/Users/Gutierya/Documents/School/Python_Schaffer/pythonProject2/venv/lib/python3.9/site-packages/sklearn/linear_model/_coordinate_descent.py:530: ConvergenceWarning: Objective did not converge. You might want to increase the number of iterations. Duality gap: 0.03854700722534954, tolerance: 0.0244\n",
      "  model = cd_fast.enet_coordinate_descent(\n",
      "/Users/Gutierya/Documents/School/Python_Schaffer/pythonProject2/venv/lib/python3.9/site-packages/sklearn/linear_model/_coordinate_descent.py:530: ConvergenceWarning: Objective did not converge. You might want to increase the number of iterations. Duality gap: 0.041310325201934006, tolerance: 0.024499999999999994\n",
      "  model = cd_fast.enet_coordinate_descent(\n"
     ]
    },
    {
     "name": "stdout",
     "output_type": "stream",
     "text": [
      "{'lasso__regressor__alpha': 0.1, 'poly__degree': 5}\n",
      "Training RMSE:  28.21317851255676\n",
      "Training R2:  0.8784019257589333\n",
      "\n",
      "The r2 is notably close to 1 (.87) can be considered ideal and the RMSE\tbeing .28 demonstrates that the model can relatively predict the data accurately\n"
     ]
    },
    {
     "data": {
      "text/plain": "<IPython.core.display.Markdown object>",
      "text/markdown": "All predictions are plus or minus 28.21317851255676 "
     },
     "metadata": {},
     "output_type": "display_data"
    }
   ],
   "source": [
    "#scikit chooses optimal values of params\n",
    "pl = Pipeline([('poly', PolynomialFeatures()),\n",
    "               ('norm', StandardScaler()),\n",
    "               ('lasso', TransformedTargetRegressor(regressor=Lasso(max_iter=10000),transformer=StandardScaler()))])\n",
    "param_grid = [\n",
    "    {'poly__degree': [1, 2, 3, 4, 5, 6], 'lasso__regressor__alpha': [0.001, 0.01, 0.1, 1]}\n",
    "]\n",
    "\n",
    "#stored in a notebook variable called model\n",
    "model = GridSearchCV(pl, param_grid=param_grid, scoring='neg_mean_squared_error', n_jobs=-1)\n",
    "model.fit(X_train, y_train)\n",
    "print(model.best_params_)\n",
    "pred_train = model.predict(X_train)\n",
    "pred_test = model.predict(X_test)\n",
    "\n",
    "rmse = sqrt(mean_squared_error(y_train, pred_train))\n",
    "print(\"Training RMSE: \", rmse)\n",
    "print(\"Training R2: \", r2_score(y_train, pred_train))\n",
    "\n",
    "print(\"\\nThe r2 is notably close to 1 (.87) can be considered ideal and the RMSE\"\n",
    "      \"\\tbeing .28 demonstrates that the model can relatively predict the data accurately\")\n",
    "\n",
    "def printmd(string):\n",
    "    display(Markdown(string))\n",
    "\n",
    "#Create a markdown cell (using rmse)\n",
    "printmd(f'All predictions are plus or minus {rmse} ')"
   ],
   "metadata": {
    "collapsed": false,
    "pycharm": {
     "name": "#%%\n"
    }
   }
  },
  {
   "cell_type": "code",
   "execution_count": 206,
   "outputs": [],
   "source": [
    "X_grading = pd.read_csv('https://raw.githubusercontent.com/cdavidshaffer/CPSC4970-AI/master/data/m3test.csv')\n",
    "predicted = model.predict(X_grading)"
   ],
   "metadata": {
    "collapsed": false,
    "pycharm": {
     "name": "#%%\n"
    }
   }
  }
 ],
 "metadata": {
  "kernelspec": {
   "display_name": "Python 3",
   "language": "python",
   "name": "python3"
  },
  "language_info": {
   "codemirror_mode": {
    "name": "ipython",
    "version": 2
   },
   "file_extension": ".py",
   "mimetype": "text/x-python",
   "name": "python",
   "nbconvert_exporter": "python",
   "pygments_lexer": "ipython2",
   "version": "2.7.6"
  }
 },
 "nbformat": 4,
 "nbformat_minor": 0
}