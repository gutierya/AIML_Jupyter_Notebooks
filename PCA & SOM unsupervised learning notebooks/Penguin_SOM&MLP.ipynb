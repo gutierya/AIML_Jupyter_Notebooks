{
 "cells": [
  {
   "cell_type": "code",
   "execution_count": 1,
   "metadata": {
    "collapsed": true
   },
   "outputs": [],
   "source": [
    "from sklearn_som.som import SOM\n",
    "import pandas as pd\n",
    "from IPython.core.display import display\n",
    "from sklearn.cluster import KMeans\n",
    "from sklearn.metrics import silhouette_score\n",
    "from sklearn.preprocessing import StandardScaler\n",
    "from sklearn.decomposition import PCA\n",
    "import matplotlib.pyplot as plt\n",
    "import numpy as np\n",
    "import numpy as np\n",
    "from sklearn.datasets import load_iris\n",
    "from sklearn.model_selection import train_test_split\n",
    "from sklearn.pipeline import Pipeline\n",
    "from sklearn.compose import make_column_transformer\n",
    "from sklearn.preprocessing import StandardScaler\n",
    "from sklearn.preprocessing import OneHotEncoder\n",
    "from sklearn.neural_network import MLPClassifier\n",
    "from sklearn.metrics import accuracy_score\n",
    "from sklearn.model_selection import GridSearchCV\n",
    "from sklearn.model_selection import train_test_split\n",
    "from sklearn_som.som import SOM\n",
    "from sklearn.pipeline import Pipeline\n",
    "from sklearn.compose import make_column_transformer\n",
    "from sklearn.preprocessing import StandardScaler\n",
    "from sklearn.preprocessing import OneHotEncoder\n",
    "from sklearn.neural_network import MLPClassifier\n",
    "from sklearn.metrics import accuracy_score\n",
    "from sklearn.model_selection import GridSearchCV\n",
    "plt.style.use('dark_background')"
   ]
  },
  {
   "cell_type": "markdown",
   "source": [
    "Can a SOM of the numerical features be combined with a one-hot encoded\n",
    "version of the non-numerical features to create a multilayer perceptron\n",
    "classifier that performs well on this data?\n",
    "\n",
    "-Confirmed"
   ],
   "metadata": {
    "collapsed": false
   }
  },
  {
   "cell_type": "code",
   "execution_count": 2,
   "outputs": [
    {
     "data": {
      "text/plain": "       species  island culmen_length_mm culmen_depth_mm flipper_length_mm  \\\ncount      334     334              334             334               334   \nunique       3       3              163              79                54   \ntop     Adelie  Biscoe             41.1            17.0             190.0   \nfreq       146     164                7              12                21   \n\n       body_mass_g   sex  \ncount          334   334  \nunique          93     3  \ntop         3800.0  MALE  \nfreq            12   168  ",
      "text/html": "<div>\n<style scoped>\n    .dataframe tbody tr th:only-of-type {\n        vertical-align: middle;\n    }\n\n    .dataframe tbody tr th {\n        vertical-align: top;\n    }\n\n    .dataframe thead th {\n        text-align: right;\n    }\n</style>\n<table border=\"1\" class=\"dataframe\">\n  <thead>\n    <tr style=\"text-align: right;\">\n      <th></th>\n      <th>species</th>\n      <th>island</th>\n      <th>culmen_length_mm</th>\n      <th>culmen_depth_mm</th>\n      <th>flipper_length_mm</th>\n      <th>body_mass_g</th>\n      <th>sex</th>\n    </tr>\n  </thead>\n  <tbody>\n    <tr>\n      <th>count</th>\n      <td>334</td>\n      <td>334</td>\n      <td>334</td>\n      <td>334</td>\n      <td>334</td>\n      <td>334</td>\n      <td>334</td>\n    </tr>\n    <tr>\n      <th>unique</th>\n      <td>3</td>\n      <td>3</td>\n      <td>163</td>\n      <td>79</td>\n      <td>54</td>\n      <td>93</td>\n      <td>3</td>\n    </tr>\n    <tr>\n      <th>top</th>\n      <td>Adelie</td>\n      <td>Biscoe</td>\n      <td>41.1</td>\n      <td>17.0</td>\n      <td>190.0</td>\n      <td>3800.0</td>\n      <td>MALE</td>\n    </tr>\n    <tr>\n      <th>freq</th>\n      <td>146</td>\n      <td>164</td>\n      <td>7</td>\n      <td>12</td>\n      <td>21</td>\n      <td>12</td>\n      <td>168</td>\n    </tr>\n  </tbody>\n</table>\n</div>"
     },
     "metadata": {},
     "output_type": "display_data"
    },
    {
     "name": "stdout",
     "output_type": "stream",
     "text": [
      "<class 'pandas.core.frame.DataFrame'>\n",
      "Int64Index: 334 entries, 0 to 343\n",
      "Data columns (total 7 columns):\n",
      " #   Column             Non-Null Count  Dtype \n",
      "---  ------             --------------  ----- \n",
      " 0   species            334 non-null    object\n",
      " 1   island             334 non-null    object\n",
      " 2   culmen_length_mm   334 non-null    object\n",
      " 3   culmen_depth_mm    334 non-null    object\n",
      " 4   flipper_length_mm  334 non-null    object\n",
      " 5   body_mass_g        334 non-null    object\n",
      " 6   sex                334 non-null    object\n",
      "dtypes: object(7)\n",
      "memory usage: 20.9+ KB\n"
     ]
    },
    {
     "data": {
      "text/plain": "None"
     },
     "metadata": {},
     "output_type": "display_data"
    },
    {
     "data": {
      "text/plain": "(334, 7)"
     },
     "metadata": {},
     "output_type": "display_data"
    },
    {
     "data": {
      "text/plain": "Index(['species', 'island', 'culmen_length_mm', 'culmen_depth_mm',\n       'flipper_length_mm', 'body_mass_g', 'sex'],\n      dtype='object')"
     },
     "metadata": {},
     "output_type": "display_data"
    }
   ],
   "source": [
    "raw_data = pd.read_csv('https://raw.githubusercontent.com/cdavidshaffer/CPSC4970-AI/master/data/penguins.csv')\n",
    "#removing rows with missing values\n",
    "raw_data = raw_data.replace(\"?\", np.nan)\n",
    "raw_data.dropna(how=\"any\", inplace=True)\n",
    "raw_data = raw_data.fillna(\"\", inplace=False)\n",
    "raw_data.isnull().sum()\n",
    "\n",
    "display(raw_data.describe())\n",
    "display(raw_data.info())\n",
    "display(raw_data.shape)\n",
    "display(raw_data.columns)\n",
    "\n",
    "#first, converting object type columns to float types to work with data\n",
    "raw_data[\"culmen_length_mm\"] = pd.to_numeric(raw_data.culmen_length_mm, errors='coerce', downcast='float')\n",
    "raw_data[\"culmen_depth_mm\"] = pd.to_numeric(raw_data.culmen_depth_mm, errors='coerce', downcast='float')\n",
    "raw_data[\"flipper_length_mm\"] = pd.to_numeric(raw_data.flipper_length_mm, errors='coerce', downcast='float')\n",
    "raw_data[\"body_mass_g\"] = pd.to_numeric(raw_data.body_mass_g, errors='coerce', downcast='float')\n",
    "\n",
    "features = ['culmen_length_mm', 'culmen_depth_mm', 'flipper_length_mm', 'body_mass_g']\n",
    "\n",
    "X = raw_data.loc[:,features].values\n",
    "Y = raw_data.loc[:,['species']]\n",
    "\n",
    "X_train, X_test, y_train, y_test = train_test_split(raw_data.iloc[:, 2:-1], raw_data['species'])"
   ],
   "metadata": {
    "collapsed": false,
    "pycharm": {
     "name": "#%%\n"
    }
   }
  },
  {
   "cell_type": "code",
   "execution_count": 3,
   "outputs": [
    {
     "name": "stdout",
     "output_type": "stream",
     "text": [
      "[ 6  3 11  8  4  0  9  0  8  3  5  2  7  1  6  2  2 11  7  8  2  8  8  8\n",
      "  6 10  7  9  2  8  7  2  8  8  5  7  4  8  5  7 10  3  0  8  0  8  3  8\n",
      "  3  3  5  6  7  3  3  0  7  7  3  6  2  8  8  2  5  7  9  8 11  8  8 11\n",
      "  7  8  3  1  3  9  9  9  1  1  9  2 11  8 11  9  9  3  2  8  3 11 11 11\n",
      "  5  3  8  8  7  2 11  5 11  3  3  4  3  2  6  3 10  9  1  6  3  2  3  6\n",
      "  3 11  3  0  4  6  3 11  7  8  3  9  9  7  3  6  2  9  2  9  5  2  0  3\n",
      "  7 11  9  3  7  8  0  7  8  3  6  8 10  9  8  8 10  6  6  9  5  8  9  4\n",
      "  4  0  8  9  2 10 10  6  6  6  2  6  2  3  8  9  6  8 10  3  1  7  1 11\n",
      "  2  6  6 11  3 11  5  3  9  9  8  7  4  5  6  6 10  7  9  1  8  7  5  8\n",
      "  1  8  8  2  3  3  0  7  6 10 10  8  9  9  4  7  5 11  2  2  3  4  3  9\n",
      "  7  3  3  8  3  0 11  4  9  9]\n"
     ]
    }
   ],
   "source": [
    "som = SOM(m=3, n=4, dim=X.shape[1])\n",
    "som.fit(X_train.values)\n",
    "print(som.predict(X_train.values))"
   ],
   "metadata": {
    "collapsed": false,
    "pycharm": {
     "name": "#%%\n"
    }
   }
  },
  {
   "cell_type": "code",
   "execution_count": 4,
   "outputs": [
    {
     "name": "stdout",
     "output_type": "stream",
     "text": [
      "(250, 4)\n",
      "(250, 5)\n",
      "(84, 4)\n",
      "(84, 5)\n",
      "Training accuracy: 0.996\n",
      "Testing accuracy: 0.9880952380952381\n",
      "{'classifier__alpha': 0.2, 'classifier__hidden_layer_sizes': (20,)}\n"
     ]
    },
    {
     "data": {
      "text/plain": "<sklearn.metrics._plot.confusion_matrix.ConfusionMatrixDisplay at 0x7f9fc1917790>"
     },
     "execution_count": 4,
     "metadata": {},
     "output_type": "execute_result"
    },
    {
     "data": {
      "text/plain": "<Figure size 432x288 with 2 Axes>",
      "image/png": "[encoded data removed]"
     },
     "metadata": {},
     "output_type": "display_data"
    }
   ],
   "source": [
    "aug_X_train = np.append(X_train, som.predict(X_train.values).reshape(-1, 1), axis=1)\n",
    "print(X_train.shape)\n",
    "print(aug_X_train.shape)\n",
    "aug_X_test = np.append(X_test, som.predict(X_test.values).reshape(-1, 1), axis=1)\n",
    "print(X_test.shape)\n",
    "print(aug_X_test.shape)\n",
    "\n",
    "pipeline = Pipeline(\n",
    "    [('preproc', make_column_transformer(\n",
    "        (OneHotEncoder(handle_unknown='ignore'), [aug_X_train.shape[1]-1]),\n",
    "        (StandardScaler(), slice(0, aug_X_train.shape[1]-1)))),\n",
    "     ('classifier', MLPClassifier(max_iter=2000))]\n",
    ")\n",
    "\n",
    "cv_params = {\n",
    "    'classifier__hidden_layer_sizes': [(10, ), (20, ), (40, ), (80, ),\n",
    "                                       (10, 5), (20, 10), (40, 20), (80, 40)],\n",
    "    'classifier__alpha': [0.0001, 0.001, 0.01, 0.1, 0.2, 0.4]\n",
    "}\n",
    "\n",
    "cv = GridSearchCV(pipeline, cv_params, n_jobs=-1)\n",
    "cv.fit(aug_X_train, y_train)\n",
    "print(\"Training accuracy:\", accuracy_score(y_train, cv.predict(aug_X_train)))\n",
    "print(\"Testing accuracy:\", accuracy_score(y_test, cv.predict(aug_X_test)))\n",
    "from sklearn.metrics import plot_confusion_matrix\n",
    "print(cv.best_params_)\n",
    "plot_confusion_matrix(cv, aug_X_test, y_test)\n",
    "\n"
   ],
   "metadata": {
    "collapsed": false,
    "pycharm": {
     "name": "#%%\n"
    }
   }
  }
 ],
 "metadata": {
  "kernelspec": {
   "display_name": "Python 3",
   "language": "python",
   "name": "python3"
  },
  "language_info": {
   "codemirror_mode": {
    "name": "ipython",
    "version": 2
   },
   "file_extension": ".py",
   "mimetype": "text/x-python",
   "name": "python",
   "nbconvert_exporter": "python",
   "pygments_lexer": "ipython2",
   "version": "2.7.6"
  }
 },
 "nbformat": 4,
 "nbformat_minor": 0
}